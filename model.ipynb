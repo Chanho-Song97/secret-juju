{
 "cells": [
  {
   "cell_type": "code",
   "execution_count": 1,
   "metadata": {},
   "outputs": [
    {
     "name": "stdout",
     "output_type": "stream",
     "text": [
      "Requirement already satisfied: pykrx in c:\\users\\gjaischool-77\\appdata\\local\\programs\\python\\python310\\lib\\site-packages (1.0.39)\n",
      "Requirement already satisfied: requests in c:\\users\\gjaischool-77\\appdata\\local\\programs\\python\\python310\\lib\\site-packages (from pykrx) (2.28.1)\n",
      "Requirement already satisfied: numpy in c:\\users\\gjaischool-77\\appdata\\local\\programs\\python\\python310\\lib\\site-packages (from pykrx) (1.23.4)\n",
      "Requirement already satisfied: xlrd in c:\\users\\gjaischool-77\\appdata\\local\\programs\\python\\python310\\lib\\site-packages (from pykrx) (2.0.1)\n",
      "Requirement already satisfied: pandas in c:\\users\\gjaischool-77\\appdata\\local\\programs\\python\\python310\\lib\\site-packages (from pykrx) (1.5.1)\n",
      "Requirement already satisfied: datetime in c:\\users\\gjaischool-77\\appdata\\local\\programs\\python\\python310\\lib\\site-packages (from pykrx) (4.7)\n",
      "Requirement already satisfied: deprecated in c:\\users\\gjaischool-77\\appdata\\local\\programs\\python\\python310\\lib\\site-packages (from pykrx) (1.2.13)\n",
      "Requirement already satisfied: pytz in c:\\users\\gjaischool-77\\appdata\\local\\programs\\python\\python310\\lib\\site-packages (from datetime->pykrx) (2022.6)\n",
      "Requirement already satisfied: zope.interface in c:\\users\\gjaischool-77\\appdata\\local\\programs\\python\\python310\\lib\\site-packages (from datetime->pykrx) (5.5.2)\n",
      "Requirement already satisfied: wrapt<2,>=1.10 in c:\\users\\gjaischool-77\\appdata\\local\\programs\\python\\python310\\lib\\site-packages (from deprecated->pykrx) (1.14.1)\n",
      "Requirement already satisfied: python-dateutil>=2.8.1 in c:\\users\\gjaischool-77\\appdata\\local\\programs\\python\\python310\\lib\\site-packages (from pandas->pykrx) (2.8.2)\n",
      "Requirement already satisfied: urllib3<1.27,>=1.21.1 in c:\\users\\gjaischool-77\\appdata\\local\\programs\\python\\python310\\lib\\site-packages (from requests->pykrx) (1.26.12)\n",
      "Requirement already satisfied: charset-normalizer<3,>=2 in c:\\users\\gjaischool-77\\appdata\\local\\programs\\python\\python310\\lib\\site-packages (from requests->pykrx) (2.1.1)\n",
      "Requirement already satisfied: idna<4,>=2.5 in c:\\users\\gjaischool-77\\appdata\\local\\programs\\python\\python310\\lib\\site-packages (from requests->pykrx) (3.4)\n",
      "Requirement already satisfied: certifi>=2017.4.17 in c:\\users\\gjaischool-77\\appdata\\local\\programs\\python\\python310\\lib\\site-packages (from requests->pykrx) (2022.9.24)\n",
      "Requirement already satisfied: six>=1.5 in c:\\users\\gjaischool-77\\appdata\\local\\programs\\python\\python310\\lib\\site-packages (from python-dateutil>=2.8.1->pandas->pykrx) (1.16.0)\n",
      "Requirement already satisfied: setuptools in c:\\users\\gjaischool-77\\appdata\\local\\programs\\python\\python310\\lib\\site-packages (from zope.interface->datetime->pykrx) (58.1.0)\n"
     ]
    }
   ],
   "source": [
    "!pip install pykrx"
   ]
  },
  {
   "cell_type": "code",
   "execution_count": 5,
   "metadata": {},
   "outputs": [],
   "source": [
    "import tensorflow as tf\n",
    "from tensorflow.keras import Sequential\n",
    "from tensorflow.keras.layers import Dense, LSTM, Dropout\n",
    "import pandas as pd\n",
    "import numpy as np\n",
    "import seaborn as sns\n",
    "from pykrx import stock\n",
    "import pandas as pd\n",
    "import matplotlib.pyplot as plt"
   ]
  },
  {
   "cell_type": "code",
   "execution_count": 6,
   "metadata": {},
   "outputs": [
    {
     "name": "stdout",
     "output_type": "stream",
     "text": [
      "[[0.6965669988918088, 0.6497933884290807, 0.6893854748595649, 0.17688065789785323, 0.6487628243806292], [0.6888150609073214, 0.6456611570241264, 0.688268156423812, 0.13632496036234582, 0.6547978273981233], [0.6910299003314606, 0.6477272727266036, 0.6893854748595649, 0.14294991138867483, 0.6584188292086199], [0.686600221483182, 0.6404958677679333, 0.6849162011165532, 0.14725787805190763, 0.6427278213631349], [0.6843853820590428, 0.6446280991728878, 0.6860335195523061, 0.1355001773577458, 0.6475558237771303], [0.6799557032107642, 0.6384297520654562, 0.6793296089377885, 0.10384779105420429, 0.6427278213631349], [0.6744186046504159, 0.6322314049580245, 0.6737430167590237, 0.10421534066268788, 0.6330718165351441], [0.6777408637866249, 0.6332644628092632, 0.6782122905020355, 0.0970592521040946, 0.6378998189491395], [0.6777408637866249, 0.6373966942142175, 0.6804469273735414, 0.08997180779782085, 0.6427278213631349], [0.6799557032107642, 0.6373966942142175, 0.6793296089377885, 0.0739476879859502, 0.6378998189491395]] -> [0.62703681351765]\n",
      "Model: \"sequential\"\n",
      "_________________________________________________________________\n",
      " Layer (type)                Output Shape              Param #   \n",
      "=================================================================\n",
      " lstm (LSTM)                 (None, 10, 10)            640       \n",
      "                                                                 \n",
      " dropout (Dropout)           (None, 10, 10)            0         \n",
      "                                                                 \n",
      " lstm_1 (LSTM)               (None, 10)                840       \n",
      "                                                                 \n",
      " dropout_1 (Dropout)         (None, 10)                0         \n",
      "                                                                 \n",
      " dense (Dense)               (None, 1)                 11        \n",
      "                                                                 \n",
      "=================================================================\n",
      "Total params: 1,491\n",
      "Trainable params: 1,491\n",
      "Non-trainable params: 0\n",
      "_________________________________________________________________\n",
      "Epoch 1/60\n",
      "104/104 [==============================] - 5s 4ms/step - loss: 0.0039\n",
      "Epoch 2/60\n",
      "104/104 [==============================] - 0s 4ms/step - loss: 9.6328e-04\n",
      "Epoch 3/60\n",
      "104/104 [==============================] - 0s 4ms/step - loss: 8.1475e-04\n",
      "Epoch 4/60\n",
      "104/104 [==============================] - 0s 4ms/step - loss: 7.1004e-04\n",
      "Epoch 5/60\n",
      "104/104 [==============================] - 0s 5ms/step - loss: 6.6643e-04\n",
      "Epoch 6/60\n",
      "104/104 [==============================] - 0s 5ms/step - loss: 6.0226e-04\n",
      "Epoch 7/60\n",
      "104/104 [==============================] - 0s 4ms/step - loss: 5.9700e-04\n",
      "Epoch 8/60\n",
      "104/104 [==============================] - 0s 4ms/step - loss: 6.1563e-04\n",
      "Epoch 9/60\n",
      "104/104 [==============================] - 0s 4ms/step - loss: 5.4632e-04\n",
      "Epoch 10/60\n",
      "104/104 [==============================] - 0s 4ms/step - loss: 5.4689e-04\n",
      "Epoch 11/60\n",
      "104/104 [==============================] - 0s 4ms/step - loss: 5.4422e-04\n",
      "Epoch 12/60\n",
      "104/104 [==============================] - 0s 4ms/step - loss: 5.0545e-04\n",
      "Epoch 13/60\n",
      "104/104 [==============================] - 0s 4ms/step - loss: 4.5108e-04\n",
      "Epoch 14/60\n",
      "104/104 [==============================] - 0s 4ms/step - loss: 4.3455e-04\n",
      "Epoch 15/60\n",
      "104/104 [==============================] - 0s 4ms/step - loss: 4.3102e-04\n",
      "Epoch 16/60\n",
      "104/104 [==============================] - 0s 4ms/step - loss: 4.1210e-04\n",
      "Epoch 17/60\n",
      "104/104 [==============================] - 0s 4ms/step - loss: 4.3199e-04\n",
      "Epoch 18/60\n",
      "104/104 [==============================] - 1s 5ms/step - loss: 4.1498e-04\n",
      "Epoch 19/60\n",
      "104/104 [==============================] - 1s 5ms/step - loss: 3.7921e-04\n",
      "Epoch 20/60\n",
      "104/104 [==============================] - 0s 4ms/step - loss: 3.7554e-04\n",
      "Epoch 21/60\n",
      "104/104 [==============================] - 0s 4ms/step - loss: 3.6910e-04\n",
      "Epoch 22/60\n",
      "104/104 [==============================] - 0s 4ms/step - loss: 3.8869e-04\n",
      "Epoch 23/60\n",
      "104/104 [==============================] - 0s 4ms/step - loss: 3.4723e-04\n",
      "Epoch 24/60\n",
      "104/104 [==============================] - 0s 4ms/step - loss: 3.3812e-04\n",
      "Epoch 25/60\n",
      "104/104 [==============================] - 0s 4ms/step - loss: 3.8158e-04\n",
      "Epoch 26/60\n",
      "104/104 [==============================] - 0s 4ms/step - loss: 3.5451e-04\n",
      "Epoch 27/60\n",
      "104/104 [==============================] - 0s 4ms/step - loss: 3.6982e-04\n",
      "Epoch 28/60\n",
      "104/104 [==============================] - 0s 5ms/step - loss: 3.3958e-04\n",
      "Epoch 29/60\n",
      "104/104 [==============================] - 0s 5ms/step - loss: 3.8664e-04\n",
      "Epoch 30/60\n",
      "104/104 [==============================] - 0s 4ms/step - loss: 3.6500e-04\n",
      "Epoch 31/60\n",
      "104/104 [==============================] - 0s 5ms/step - loss: 3.5907e-04\n",
      "Epoch 32/60\n",
      "104/104 [==============================] - 1s 5ms/step - loss: 3.6965e-04\n",
      "Epoch 33/60\n",
      "104/104 [==============================] - 0s 4ms/step - loss: 3.7215e-04\n",
      "Epoch 34/60\n",
      "104/104 [==============================] - 0s 4ms/step - loss: 3.4151e-04\n",
      "Epoch 35/60\n",
      "104/104 [==============================] - 0s 4ms/step - loss: 3.5710e-04\n",
      "Epoch 36/60\n",
      "104/104 [==============================] - 0s 4ms/step - loss: 3.4444e-04\n",
      "Epoch 37/60\n",
      "104/104 [==============================] - 0s 4ms/step - loss: 3.4406e-04\n",
      "Epoch 38/60\n",
      "104/104 [==============================] - 0s 4ms/step - loss: 3.6881e-04\n",
      "Epoch 39/60\n",
      "104/104 [==============================] - 0s 4ms/step - loss: 3.3511e-04\n",
      "Epoch 40/60\n",
      "104/104 [==============================] - 0s 4ms/step - loss: 3.9528e-04\n",
      "Epoch 41/60\n",
      "104/104 [==============================] - 0s 5ms/step - loss: 3.6634e-04\n",
      "Epoch 42/60\n",
      "104/104 [==============================] - 0s 4ms/step - loss: 3.3854e-04\n",
      "Epoch 43/60\n",
      "104/104 [==============================] - 0s 4ms/step - loss: 3.4479e-04\n",
      "Epoch 44/60\n",
      "104/104 [==============================] - 0s 4ms/step - loss: 3.5659e-04\n",
      "Epoch 45/60\n",
      "104/104 [==============================] - 1s 5ms/step - loss: 3.4371e-04\n",
      "Epoch 46/60\n",
      "104/104 [==============================] - 0s 5ms/step - loss: 3.3818e-04\n",
      "Epoch 47/60\n",
      "104/104 [==============================] - 0s 4ms/step - loss: 3.5673e-04\n",
      "Epoch 48/60\n",
      "104/104 [==============================] - 0s 4ms/step - loss: 3.1992e-04\n",
      "Epoch 49/60\n",
      "104/104 [==============================] - 0s 4ms/step - loss: 3.5065e-04\n",
      "Epoch 50/60\n",
      "104/104 [==============================] - 0s 4ms/step - loss: 3.2361e-04\n",
      "Epoch 51/60\n",
      "104/104 [==============================] - 0s 4ms/step - loss: 3.1414e-04\n",
      "Epoch 52/60\n",
      "104/104 [==============================] - 0s 4ms/step - loss: 3.4742e-04\n",
      "Epoch 53/60\n",
      "104/104 [==============================] - 0s 4ms/step - loss: 3.3458e-04\n",
      "Epoch 54/60\n",
      "104/104 [==============================] - 0s 4ms/step - loss: 3.9672e-04\n",
      "Epoch 55/60\n",
      "104/104 [==============================] - 0s 5ms/step - loss: 3.7620e-04\n",
      "Epoch 56/60\n",
      "104/104 [==============================] - 0s 4ms/step - loss: 3.6212e-04\n",
      "Epoch 57/60\n",
      "104/104 [==============================] - 0s 4ms/step - loss: 3.4195e-04\n",
      "Epoch 58/60\n",
      "104/104 [==============================] - 1s 5ms/step - loss: 3.3333e-04\n",
      "Epoch 59/60\n",
      "104/104 [==============================] - 0s 5ms/step - loss: 3.4981e-04\n",
      "Epoch 60/60\n",
      "104/104 [==============================] - 0s 4ms/step - loss: 3.3935e-04\n",
      "42/42 [==============================] - 0s 1ms/step\n"
     ]
    }
   ],
   "source": [
    "# 삼성전자\n",
    "\n",
    "data = stock.get_market_ohlcv_by_date(\"20050101\",\"20221128\",\"005930\")\n",
    "#print(data)\n",
    "\n",
    "raw_df = pd.DataFrame(data).copy()\n",
    "\n",
    "def MinMaxScaler(data):\n",
    "    \"\"\"최솟값과 최댓값을 이용하여 0 ~ 1 값으로 변환\"\"\"\n",
    "    numerator = data - np.min(data, 0)\n",
    "    denominator = np.max(data, 0) - np.min(data, 0)\n",
    "    return numerator / (denominator + 1e-7)\n",
    "\n",
    "dfx = raw_df[['시가','고가','저가','거래량', '종가']]\n",
    "dfx = MinMaxScaler(dfx)\n",
    "dfy = dfx[['종가']]\n",
    "\n",
    "x = dfx.values.tolist()\n",
    "y = dfy.values.tolist()\n",
    "\n",
    "data_x = []\n",
    "data_y = []\n",
    "window_size = 10\n",
    "\n",
    "for i in range(len(y) - window_size):\n",
    "    _x = x[i : i + window_size] # 다음 날 종가(i+windows_size)는 포함되지 않음\n",
    "    _y = y[i + window_size]     # 다음 날 종가\n",
    "    data_x.append(_x)\n",
    "    data_y.append(_y)\n",
    "print(_x, \"->\", _y)\n",
    "\n",
    "train_size = int(len(data_y) * 0.7)\n",
    "train_x = np.array(data_x[0 : train_size])\n",
    "train_y = np.array(data_y[0 : train_size])\n",
    "\n",
    "test_size = len(data_y) - train_size\n",
    "test_x = np.array(data_x[train_size : len(data_x)])\n",
    "test_y = np.array(data_y[train_size : len(data_y)])\n",
    "\n",
    "# 모델 생성\n",
    "model = Sequential()\n",
    "model.add(LSTM(units=10, activation='relu', return_sequences=True, input_shape=(window_size, 5)))\n",
    "model.add(Dropout(0.1))\n",
    "model.add(LSTM(units=10, activation='relu'))\n",
    "model.add(Dropout(0.1))\n",
    "model.add(Dense(units=1))\n",
    "model.summary()\n",
    "\n",
    "model.compile(optimizer='adam', loss='mean_squared_error')\n",
    "model.fit(train_x, train_y, epochs=60, batch_size=30)\n",
    "pred_y = model.predict(test_x)\n",
    "\n"
   ]
  },
  {
   "cell_type": "code",
   "execution_count": 7,
   "metadata": {},
   "outputs": [
    {
     "name": "stderr",
     "output_type": "stream",
     "text": [
      "findfont: Font family ['NanumBarunGothic'] not found. Falling back to DejaVu Sans.\n",
      "findfont: Font family ['NanumBarunGothic'] not found. Falling back to DejaVu Sans.\n",
      "findfont: Font family ['NanumBarunGothic'] not found. Falling back to DejaVu Sans.\n"
     ]
    },
    {
     "data": {
      "image/png": "[encoded data removed]",
      "text/plain": [
       "<Figure size 640x480 with 1 Axes>"
      ]
     },
     "metadata": {},
     "output_type": "display_data"
    }
   ],
   "source": [
    "# Visualising the results\n",
    "plt.figure()\n",
    "plt.plot(test_y, color='red', label='real SEC stock price')\n",
    "plt.plot(pred_y, color='blue', label='predicted SEC stock price')\n",
    "plt.title('SEC stock price prediction')\n",
    "plt.xlabel('time')\n",
    "plt.ylabel('stock price')\n",
    "plt.legend()\n",
    "plt.show()"
   ]
  },
  {
   "cell_type": "code",
   "execution_count": 9,
   "metadata": {},
   "outputs": [
    {
     "name": "stdout",
     "output_type": "stream",
     "text": [
      "Tomorrow's SEC price : [51734.3]\n"
     ]
    }
   ],
   "source": [
    "# raw_df.close[-1] : dfy.close[-1] = x : pred_y[-1]\n",
    "samsung = raw_df.종가[-1] * pred_y[-1] / dfy.종가[-1]\n",
    "print(\"Tomorrow's SEC price :\", raw_df.종가[-1] * pred_y[-1] / dfy.종가[-1])"
   ]
  },
  {
   "cell_type": "code",
   "execution_count": 11,
   "metadata": {},
   "outputs": [
    {
     "data": {
      "text/plain": [
       "array([51734.3], dtype=float32)"
      ]
     },
     "execution_count": 11,
     "metadata": {},
     "output_type": "execute_result"
    }
   ],
   "source": [
    "samsung"
   ]
  },
  {
   "cell_type": "code",
   "execution_count": 2,
   "metadata": {},
   "outputs": [
    {
     "name": "stdout",
     "output_type": "stream",
     "text": [
      " * Serving Flask app '__main__'\n",
      " * Debug mode: off\n"
     ]
    },
    {
     "name": "stderr",
     "output_type": "stream",
     "text": [
      "WARNING: This is a development server. Do not use it in a production deployment. Use a production WSGI server instead.\n",
      " * Running on http://127.0.0.1:5000\n",
      "Press CTRL+C to quit\n"
     ]
    }
   ],
   "source": [
    "from flask import Flask\n",
    "\n",
    "\n",
    "app = Flask(__name__)\n",
    "@app.route('/')\n",
    "\n",
    "def home():\n",
    "     return samsung\n",
    "\n",
    "if __name__ == '__main__':\n",
    "     app.run()"
   ]
  },
  {
   "cell_type": "code",
   "execution_count": 13,
   "metadata": {},
   "outputs": [
    {
     "name": "stdout",
     "output_type": "stream",
     "text": [
      " * Serving Flask app '__main__'\n",
      " * Debug mode: off\n"
     ]
    },
    {
     "name": "stderr",
     "output_type": "stream",
     "text": [
      "WARNING: This is a development server. Do not use it in a production deployment. Use a production WSGI server instead.\n",
      " * Running on http://192.168.21.57:5011\n",
      "Press CTRL+C to quit\n"
     ]
    }
   ],
   "source": [
    "from flask import Flask\n",
    "\n",
    "app = Flask(__name__)\n",
    "\n",
    "@app.route('/')\n",
    "def index():\n",
    "    return samsung\n",
    "\n",
    "if __name__ == '__main__':\n",
    "    app.run(host='192.168.21.57', port='5011')"
   ]
  }
 ],
 "metadata": {
  "kernelspec": {
   "display_name": "Python 3.7.13 ('OpenCV2')",
   "language": "python",
   "name": "python3"
  },
  "language_info": {
   "codemirror_mode": {
    "name": "ipython",
    "version": 3
   },
   "file_extension": ".py",
   "mimetype": "text/x-python",
   "name": "python",
   "nbconvert_exporter": "python",
   "pygments_lexer": "ipython3",
   "version": "3.7.13"
  },
  "orig_nbformat": 4,
  "vscode": {
   "interpreter": {
    "hash": "280d25d4d5529a439061dca9875ccb358db08ecc1685103193b0e5d455100780"
   }
  }
 },
 "nbformat": 4,
 "nbformat_minor": 2
}
